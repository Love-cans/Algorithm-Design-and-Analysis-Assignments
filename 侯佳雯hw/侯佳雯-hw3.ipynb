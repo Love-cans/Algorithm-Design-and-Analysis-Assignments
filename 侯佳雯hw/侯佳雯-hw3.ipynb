{
 "cells": [
  {
   "cell_type": "markdown",
   "metadata": {},
   "source": [
    "## algorithm design and anlysis-2025 spring  homework 3\n",
    "**Deadline**：2025.5.14\n",
    "\n",
    "**name**:侯佳雯\n",
    "\n",
    "\n",
    "note：\n",
    "---\n",
    "1. 带有\\*的题目，申请免上课的同学，必须完成，其他同学选作；\n",
    "2. 请独立完成，如求助了他人或者大模型，请著明，并且不可省略算法分析部分；\n",
    "4. 如若作答有雷同，全部取消成绩；\n",
    "3. 需要书面作答的题目，可以通过引用图片的形式添加，但是注意上传项目时包含所引用的图片的源文件；\n",
    "4. $log_n$ 默认表示$log_2{n}$;"
   ]
  },
  {
   "cell_type": "markdown",
   "metadata": {},
   "source": [
    "## 问题 1  \n",
    "\n",
    "请证明基于比较的排序算法计算复杂度下界为$\\Omega(nlogn)$"
   ]
  },
  {
   "cell_type": "markdown",
   "metadata": {},
   "source": [
    "you can refer a handwritten picture, pleas upload the picture in /fig/xxx.png\n",
    "answer：见作业3"
   ]
  },
  {
   "cell_type": "markdown",
   "metadata": {},
   "source": [
    "## 问题 2 \n",
    "\n",
    "构建二叉搜索树\n",
    "\n",
    "> 1. 给定一个数组 [48, 33, 49, 47, 42, 46, 32], 构建一个二叉搜索树存储这些数据，请**绘制**所构建的**二叉搜索树**（标明结点的值）。\n",
    "> 2. 从第1问的二叉搜索树中删除33，请**绘制**删除33后的**二叉搜索树**（标明结点的值）\n",
    "\n",
    "- 推荐使用graphviz包绘制树的结构"
   ]
  },
  {
   "cell_type": "markdown",
   "metadata": {},
   "source": [
    "you can refer a handwritten picture, pleas upload the picture in /fig/xxx.png\n",
    "answer：见作业3"
   ]
  },
  {
   "cell_type": "markdown",
   "metadata": {},
   "source": [
    "## 问题 3 \n",
    "\n",
    "> 下面是九门课程的开始和结束时间:\n",
    ">\n",
    "> [(9:00,12:30), (11:00,14:00), (13:00, 14:30), (9:00,10:30),(13:00, 14:30),(14:00,16:30), (15:00,16:30), (15:00,16:30), (9:00,10:30)]\n",
    ">\n",
    "> 请使用贪婪算法为这九门课分配教室，要求在同一天内安排这些课，并且每个教室同一时间只能安排一门课。\n",
    "\n",
    "**请问最少需要几间教室，罗列出每个教室安排的课程**"
   ]
  },
  {
   "cell_type": "markdown",
   "metadata": {},
   "source": [
    "idea："
   ]
  },
  {
   "cell_type": "code",
   "execution_count": 5,
   "metadata": {
    "vscode": {
     "languageId": "plaintext"
    }
   },
   "outputs": [
    {
     "name": "stdout",
     "output_type": "stream",
     "text": [
      "最少需要 3 间教室\n",
      "教室1:\n",
      "  09:00 - 12:30\n",
      "  13:00 - 14:30\n",
      "  15:00 - 16:30\n",
      "教室2:\n",
      "  09:00 - 10:30\n",
      "  11:00 - 14:00\n",
      "  14:00 - 16:30\n",
      "教室3:\n",
      "  09:00 - 10:30\n",
      "  13:00 - 14:30\n",
      "  15:00 - 16:30\n"
     ]
    }
   ],
   "source": [
    "import heapq\n",
    "\n",
    "def min_rooms(courses):\n",
    "    if not courses:\n",
    "        return 0\n",
    "    courses.sort(key=lambda x: x[0])  # 按开始时间排序课程\n",
    "    \n",
    "    \n",
    "    heap = []  # 最小堆，存储教室的结束时间\n",
    "    classrooms = []  # 存储每个教室的课程安排\n",
    "    \n",
    "    for course in courses:\n",
    "        start, end = course\n",
    "       \n",
    "        if heap and heap[0] <= start:  # 如果堆不为空且最早结束的教室可以复用\n",
    "            classroom_idx = heapq.heappop(heap)  # 复用教室\n",
    "            for room in classrooms:   # 找到对应的教室，添加课程\n",
    "                if room[-1][1] == classroom_idx:\n",
    "                    room.append((start, end))\n",
    "                    break\n",
    "            heapq.heappush(heap, end)\n",
    "        else:  # 需要新教室\n",
    "            heapq.heappush(heap, end)\n",
    "            classrooms.append([(start, end)])\n",
    "    return classrooms\n",
    "\n",
    "courses = [(9.0, 12.5),   (11.0, 14.0),  (13.0, 14.5),  (9.0, 10.5),   (13.0, 14.5),  (14.0, 16.5),  (15.0, 16.5),  (15.0, 16.5), (9.0, 10.5)    ]\n",
    "classrooms = min_rooms(courses)# 获取教室分配结果\n",
    "\n",
    "print(f\"最少需要 {len(classrooms)} 间教室\")\n",
    "for i, room in enumerate(classrooms, 1):\n",
    "    print(f\"教室{i}:\")\n",
    "    for course in room:\n",
    "        start_hour = int(course[0])\n",
    "        start_min = int((course[0] - start_hour) * 60)\n",
    "        end_hour = int(course[1])\n",
    "        end_min = int((course[1] - end_hour) * 60)\n",
    "        print(f\"  {start_hour:02d}:{start_min:02d} - {end_hour:02d}:{end_min:02d}\")"
   ]
  },
  {
   "cell_type": "markdown",
   "metadata": {},
   "source": [
    "## 问题 4 \n",
    "\n",
    "> 爬楼梯问题：假设爬楼梯时你每次只能爬一阶或者爬两阶，问爬上n阶的楼梯，你一共有多少种方法\n",
    "\n",
    "请设计算法完成该问题，分析算法设计思路，计算时间复杂度，并基于python编程实现"
   ]
  },
  {
   "cell_type": "markdown",
   "metadata": {},
   "source": [
    "idea："
   ]
  },
  {
   "cell_type": "code",
   "execution_count": 7,
   "metadata": {},
   "outputs": [
    {
     "name": "stdout",
     "output_type": "stream",
     "text": [
      "爬5阶楼梯的方法数：8\n"
     ]
    }
   ],
   "source": [
    "# add your code here\n",
    "# your algorithm time complexity is: 见作业3\n",
    "def climb_stairs(n):\n",
    "    if n == 0:\n",
    "        return 1\n",
    "    if n == 1:\n",
    "        return 1\n",
    "    dp = [0] * (n + 1)\n",
    "    dp[0], dp[1] = 1, 1\n",
    "    for i in range(2, n + 1):\n",
    "        dp[i] = dp[i - 1] + dp[i - 2]\n",
    "    return dp[n]\n",
    "\n",
    "# 测试\n",
    "n = 5\n",
    "print(f\"爬{n}阶楼梯的方法数：{climb_stairs(n)}\")"
   ]
  },
  {
   "cell_type": "markdown",
   "metadata": {},
   "source": [
    "## 问题 5 \n",
    "\n",
    "> 0-1背包问题：现在有4块大理石，每个大理石对应的重量和价值使用一个元组表示, 即（重量，价值），4块大理石的重量和价值为：[(5,10), (4,40), (6,30), (3, 50)], 假设你有一辆最大承重为9的小推车，请问使用这个小推车装大理石的最大价值为多少\n",
    "\n",
    "请设计一个算法解决该问题，分析算法设计思路，计算时间复杂度，并基于python编程实现"
   ]
  },
  {
   "cell_type": "markdown",
   "metadata": {},
   "source": [
    "idea："
   ]
  },
  {
   "cell_type": "code",
   "execution_count": 8,
   "metadata": {},
   "outputs": [
    {
     "name": "stdout",
     "output_type": "stream",
     "text": [
      "最大可获得价值为: 90\n"
     ]
    }
   ],
   "source": [
    "# add your code here\n",
    "# your algorithm time complexity is:见作业3\n",
    "def knapsack_01(weights, values, capacity):\n",
    "    n = len(weights)\n",
    "    dp = [0] * (capacity + 1)\n",
    "    for i in range(n):\n",
    "        for w in range(capacity, weights[i] - 1, -1):\n",
    "            dp[w] = max(dp[w], dp[w - weights[i]] + values[i])\n",
    "    return dp[capacity]\n",
    "\n",
    "weights = [5, 4, 6, 3]\n",
    "values =  [10, 40, 30, 50]\n",
    "capacity = 9\n",
    "max_value = knapsack_01(weights, values, capacity)\n",
    "print(\"最大可获得价值为:\", max_value)"
   ]
  },
  {
   "cell_type": "markdown",
   "metadata": {},
   "source": [
    "## 问题 6 \n",
    "给定 `n` 个非负整数表示每个宽度为 `1` 的柱子的高度图，计算按此排列的柱子，下雨之后能接多少雨水。\n",
    "\n",
    "\n",
    "\n",
    "<div style=\"text-align:center;width:800px;\"> <img alt=\"\" src=\"./fig/hw3q6.png\"> </div>\n",
    "\n",
    "请分析算法设计思路，计算时间复杂度，并基于python编程实现"
   ]
  },
  {
   "cell_type": "markdown",
   "metadata": {},
   "source": [
    "idea："
   ]
  },
  {
   "cell_type": "code",
   "execution_count": 9,
   "metadata": {},
   "outputs": [
    {
     "name": "stdout",
     "output_type": "stream",
     "text": [
      "6\n",
      "9\n"
     ]
    }
   ],
   "source": [
    "# add your code here\n",
    "# your algorithm time complexity is:见作业3\n",
    "def trap(height):\n",
    "    if not height:\n",
    "        return 0\n",
    "    left, right = 0, len(height) - 1\n",
    "    left_max, right_max = height[left], height[right]\n",
    "    res = 0\n",
    "    while left < right:\n",
    "        if height[left] < height[right]:\n",
    "            left += 1\n",
    "            left_max = max(left_max, height[left])\n",
    "            res += max(0, left_max - height[left])\n",
    "        else:\n",
    "            right -= 1\n",
    "            right_max = max(right_max, height[right])\n",
    "            res += max(0, right_max - height[right])\n",
    "    return res\n",
    "print(trap([0,1,0,2,1,0,1,3,2,1,2,1]))  # 输出: 6\n",
    "print(trap([4,2,0,3,2,5]))             # 输出: 9"
   ]
  },
  {
   "cell_type": "markdown",
   "metadata": {},
   "source": [
    "## 问题 7 \n",
    "\n",
    "**股票投资组合优化**： 假设你是一位投资者，想要在不同的股票中分配你的资金，以最大化你的投资回报。每只股票都有不同的预期收益率和风险。你的目标是选择一些股票，使得总投资金额不超过你的预算，并且预期收益最大化。\n",
    "\n",
    "在这个情况下，你可以将每只股票视为一个“物品”，其重量为投资金额，价值为预期收益率。然后，你可以使用分级背包问题的方法来选择部分股票，以便在预算内获得最大的预期收益。\n",
    "\n",
    "以下是一个简化的例子：\n",
    "\n",
    "假设你有以下三只股票可供选择：\n",
    "\n",
    "1. 股票 A：投资金额 5000 美元，预期收益率 10%\n",
    "2. 股票 B：投资金额 3000 美元，预期收益率 8%\n",
    "3. 股票 C：投资金额 2000 美元，预期收益率 12%\n",
    "\n",
    "请设计算法找到最优投资方案，分析算法设计思路，计算时间复杂度，并基于python编程实现"
   ]
  },
  {
   "cell_type": "markdown",
   "metadata": {},
   "source": [
    "idea："
   ]
  },
  {
   "cell_type": "code",
   "execution_count": 11,
   "metadata": {},
   "outputs": [
    {
     "name": "stdout",
     "output_type": "stream",
     "text": [
      "最大预期收益: 500.0\n",
      "选择投资的股票索引: [0]（索引0表示A）\n"
     ]
    }
   ],
   "source": [
    "# add your code here\n",
    "# your algorithm time complexity is:\n",
    "def investment_optimization(costs, returns, capital):\n",
    "    n = len(costs)\n",
    "    dp = [0] * (capital + 1)\n",
    "    path = [[False] * (capital + 1) for _ in range(n)]\n",
    "\n",
    "    for i in range(n):\n",
    "        for j in range(capital, costs[i] - 1, -1):\n",
    "            if dp[j - costs[i]] + returns[i] > dp[j]:\n",
    "                dp[j] = dp[j - costs[i]] + returns[i]\n",
    "                path[i][j] = True\n",
    "                \n",
    "    selected = []\n",
    "    j = capital\n",
    "    for i in range(n - 1, -1, -1):\n",
    "        if path[i][j]:\n",
    "            selected.append(i)\n",
    "            j -= costs[i]\n",
    "\n",
    "    return dp[capital], selected[::-1]\n",
    "\n",
    "costs = [5000, 3000, 2000]            # 投资金额\n",
    "rates = [0.10, 0.08, 0.12]            # 收益率\n",
    "returns = [costs[i] * rates[i] for i in range(len(costs))]  # 收益\n",
    "capital = 5000                        # 总资金上限\n",
    "\n",
    "max_return, selected = investment_optimization(costs, returns, capital)\n",
    "\n",
    "print(f\"最大预期收益: {max_return}\")\n",
    "print(f\"选择投资的股票索引: {selected}（索引0表示A）\")"
   ]
  },
  {
   "cell_type": "markdown",
   "metadata": {},
   "source": [
    "## 问题 8\n",
    "\n",
    "给你二叉搜索树的根节点 root ，该树中的恰好两个节点的值被错误地交换。请在不改变其结构的情况下，恢复这棵树 。设计算法解决该问题，分析算法设计思路，计算时间复杂度，并基于python编程实现\n",
    "\n",
    "e.g.:\n",
    "---\n",
    "1.\n",
    "\n",
    "<div style=\"text-align:center;width:200px;\"> <img alt=\"\" src=\"./fig/hw3q9-1.jpg\"> </div>\n",
    "输入：root = [1,3,null,null,2]， 输出为：[3,1,null,null,2]， \n",
    "\n",
    "解释：3 不能是 1 的左孩子，因为 3 > 1 。交换 1 和 3 使二叉搜索树有效。\n",
    "\n",
    "2.\n",
    "\n",
    " <div style=\"text-align:center;width:200px;\"> <img alt=\"\" src=\"./fig/hw3q9-1.jpg\"> </div>\n",
    "输入： root=[3,1,4,null,null,2]， 输出为：[2,1,4,null,null,3]\n",
    "\n",
    "解释：2 不能在 3 的右子树中，因为 2 < 3 。交换 2 和 3 使二叉搜索树有效。"
   ]
  },
  {
   "cell_type": "markdown",
   "metadata": {},
   "source": [
    "idea：\n"
   ]
  },
  {
   "cell_type": "code",
   "execution_count": 12,
   "metadata": {},
   "outputs": [
    {
     "name": "stdout",
     "output_type": "stream",
     "text": [
      "1 2 3 "
     ]
    }
   ],
   "source": [
    "# add your code here\n",
    "# your algorithm time complexity is:\n",
    "class TreeNode:\n",
    "    def __init__(self, val=0, left=None, right=None):\n",
    "        self.val = val\n",
    "        self.left = left\n",
    "        self.right = right\n",
    "def recoverTree(root):\n",
    "    x = y = prev = None\n",
    "    def inorder(node):\n",
    "        nonlocal x, y, prev\n",
    "        if not node:\n",
    "            return\n",
    "        inorder(node.left)\n",
    "        if prev and node.val < prev.val:\n",
    "            y = node\n",
    "            if not x:\n",
    "                x = prev\n",
    "            else:\n",
    "                return\n",
    "        prev = node\n",
    "        inorder(node.right)\n",
    "    inorder(root)\n",
    "    if x and y:\n",
    "        x.val, y.val = y.val, x.val\n",
    "        \n",
    "# 构造树：[3,1,null,null,2]\n",
    "# 错误：3和1交换了，应为 [1,3,null,null,2]\n",
    "root = TreeNode(3)\n",
    "root.left = TreeNode(1)\n",
    "root.left.right = TreeNode(2)\n",
    "recoverTree(root)\n",
    "# 中序打印检查是否为升序\n",
    "def inorder_print(root):\n",
    "    if root:\n",
    "        inorder_print(root.left)\n",
    "        print(root.val, end=\" \")\n",
    "        inorder_print(root.right)\n",
    "inorder_print(root)# 输出应为：1 2 3"
   ]
  },
  {
   "cell_type": "markdown",
   "metadata": {},
   "source": [
    "## 问题 9  \n",
    "\n",
    "给你一个二叉树的根节点 root ，树中每个节点都存放有一个 0 到 9 之间的数字。每条从根节点到叶节点的路径都代表一个数字：\n",
    "\n",
    "> 例如，从根节点到叶节点的路径 1 -> 2 -> 3 表示数字 123 。\n",
    "\n",
    "设计一个算法计算从根节点到叶节点生成的所有数字之和 ，分析算法设计思路，计算时间复杂度，并基于python编程实现\n",
    "\n",
    "叶节点:是指没有子节点的节点。\n",
    "\n",
    "e.g.:\n",
    "---\n",
    "1.\n",
    "\n",
    " <div style=\"text-align:center;width:200px;\"> <img alt=\"figure\" src=\"./fig/hw3q10-1.jpg\"> </div>\n",
    "\n",
    " 输入：root = [1,2,3], 输出：25\n",
    "\n",
    "解释：从根到叶子节点路径 1->2 代表数字 12，1->3 代表数字 13，因此和为 12 + 13 = 25 。\n",
    "\n",
    "2.\n",
    "\n",
    " <div style=\"text-align:center;width:200px;\"> <img alt=\"figure\" src=\"./fig/hw3q10-2.jpg\"> </div>\n",
    "\n",
    " 输入：root = [4,9,0,5,1], 输出：1026\n",
    "\n",
    "解释：从根到叶子节点路径 4->9->5 代表数字 495，4->9->1 代表数字 491，4->0 代表数字 40。因此和为 495 + 491 + 40 = 1026 。"
   ]
  },
  {
   "cell_type": "markdown",
   "metadata": {},
   "source": [
    "idea："
   ]
  },
  {
   "cell_type": "code",
   "execution_count": 13,
   "metadata": {},
   "outputs": [
    {
     "name": "stdout",
     "output_type": "stream",
     "text": [
      "25\n",
      "1026\n"
     ]
    }
   ],
   "source": [
    "# add your code here\n",
    "# your algorithm time complexity is:\n",
    "class TreeNode:\n",
    "    def __init__(self, val=0, left=None, right=None):\n",
    "        self.val = val\n",
    "        self.left = left\n",
    "        self.right = right\n",
    "def sumNumbers(root):\n",
    "    def dfs(node, current):\n",
    "        if not node:\n",
    "            return 0\n",
    "        current = current * 10 + node.val\n",
    "        if not node.left and not node.right:  # 叶节点\n",
    "            return current\n",
    "        return dfs(node.left, current) + dfs(node.right, current)\n",
    "\n",
    "    return dfs(root, 0)\n",
    "# 示例 1: [1, 2, 3]\n",
    "root = TreeNode(1)\n",
    "root.left = TreeNode(2)\n",
    "root.right = TreeNode(3)\n",
    "print(sumNumbers(root))  # 输出: 25\n",
    "# 示例 2: [4, 9, 0, 5, 1]\n",
    "root = TreeNode(4)\n",
    "root.left = TreeNode(9)\n",
    "root.right = TreeNode(0)\n",
    "root.left.left = TreeNode(5)\n",
    "root.left.right = TreeNode(1)\n",
    "print(sumNumbers(root))  # 输出: 1026"
   ]
  },
  {
   "cell_type": "markdown",
   "metadata": {},
   "source": [
    "## 问题 10  \n",
    "\n",
    "给你一个二叉树的根节点 root ， 检查它是否轴对称。\n",
    "\n",
    "1. 分析算法设计思路，计算时间复杂度，并基于python编程实现\n",
    "2. \\* 设计使用递归和迭代两种方法解决这个问题，计算时间复杂度，并基于python编程实现\n",
    "\n",
    "e.g.:\n",
    "---\n",
    "1.\n",
    "\n",
    " <div style=\"text-align:center;width:200px;\"> <img alt=\"figure\" src=\"./fig/hw3q11-1.png\"> </div>\n",
    "\n",
    " 输入：root = [1,2,2,3,4,4,3]， 输出：true\n",
    "\n",
    "解释：二叉树 [1,2,2,3,4,4,3] 对称。\n",
    "\n",
    "2.\n",
    "\n",
    " <div style=\"text-align:center;width:200px;\"> <img alt=\"figure\" src=\"./fig/hw3q11-2.png\"> </div>\n",
    "\n",
    " 输入：root = [1,2,2,null,3,null,3]， 输出：false"
   ]
  },
  {
   "cell_type": "markdown",
   "metadata": {},
   "source": [
    "idea"
   ]
  },
  {
   "cell_type": "code",
   "execution_count": 15,
   "metadata": {},
   "outputs": [
    {
     "name": "stdout",
     "output_type": "stream",
     "text": [
      "True\n",
      "True\n"
     ]
    }
   ],
   "source": [
    "# add your code here\n",
    "# your algorithm time complexity is:见作业3\n",
    "class TreeNode:\n",
    "    def __init__(self, val=0, left=None, right=None):\n",
    "        self.val = val\n",
    "        self.left = left\n",
    "        self.right = right\n",
    "\n",
    "\n",
    "def is_symmetric_recursive(root):\n",
    "    def is_mirror(t1, t2):\n",
    "        if not t1 and not t2:\n",
    "            return True\n",
    "        if not t1 or not t2:\n",
    "            return False\n",
    "        return (t1.val == t2.val and\n",
    "                is_mirror(t1.left, t2.right) and\n",
    "                is_mirror(t1.right, t2.left))\n",
    "    return is_mirror(root, root)\n",
    "    return True\n",
    "# 对称树示例\n",
    "root = TreeNode(1)\n",
    "root.left = TreeNode(2, TreeNode(3), TreeNode(4))\n",
    "root.right = TreeNode(2, TreeNode(4), TreeNode(3))\n",
    "\n",
    "print(is_symmetric_recursive(root))   # 输出: True\n",
    "print(is_symmetric_recursive(root))   # 输出: True"
   ]
  },
  {
   "cell_type": "markdown",
   "metadata": {},
   "source": [
    "## 问题 11  \n",
    "\n",
    "给你一个由 '1'（陆地）和 '0'（水）组成的的二维网格，请你计算网格中岛屿的数量。岛屿总是被水包围，并且每座岛屿只能由水平方向和/或竖直方向上相邻的陆地连接形成。\n",
    "\n",
    "此外，你可以假设该网格的四条边均被水包围。\n",
    "\n",
    "分析算法设计思路，计算时间复杂度，并基于python编程实现\n",
    "\n",
    "e.g.:\n",
    "---\n",
    "1.\n",
    "输入：grid = [\n",
    "\n",
    "    [\"1\",\"1\",\"1\",\"1\",\"0\"],\n",
    "\n",
    "    [\"1\",\"1\",\"0\",\"1\",\"0\"], \n",
    "\n",
    "    [\"1\",\"1\",\"0\",\"0\",\"0\"], \n",
    "\n",
    "    [\"0\",\"0\",\"0\",\"0\",\"0\"]  \n",
    "\n",
    "]\n",
    "\n",
    "输出：1\n",
    "\n",
    "2.\n",
    "输入：grid = [\n",
    "\n",
    "    [\"1\",\"1\",\"0\",\"0\",\"0\"],\n",
    "\n",
    "    [\"1\",\"1\",\"0\",\"0\",\"0\"],\n",
    "\n",
    "    [\"0\",\"0\",\"1\",\"0\",\"0\"],\n",
    "\n",
    "    [\"0\",\"0\",\"0\",\"1\",\"1\"]\n",
    "\n",
    "]\n",
    "\n",
    "输出：3"
   ]
  },
  {
   "cell_type": "markdown",
   "metadata": {},
   "source": [
    "idea:"
   ]
  },
  {
   "cell_type": "code",
   "execution_count": 18,
   "metadata": {},
   "outputs": [
    {
     "name": "stdout",
     "output_type": "stream",
     "text": [
      "1\n",
      "3\n"
     ]
    }
   ],
   "source": [
    "# add your code here\n",
    "# your algorithm time complexity is:见作业3\n",
    "def numIslands(grid):\n",
    "    if not grid:\n",
    "        return 0\n",
    "\n",
    "    rows, cols = len(grid), len(grid[0])\n",
    "\n",
    "    def dfs(r, c):\n",
    "        if r < 0 or r >= rows or c < 0 or c >= cols or grid[r][c] == '0':\n",
    "            return\n",
    "        grid[r][c] = '0'  # 标记为访问过\n",
    "        dfs(r + 1, c)\n",
    "        dfs(r - 1, c)\n",
    "        dfs(r, c + 1)\n",
    "        dfs(r, c - 1)\n",
    "\n",
    "    count = 0\n",
    "    for r in range(rows):\n",
    "        for c in range(cols):\n",
    "            if grid[r][c] == '1':\n",
    "                dfs(r, c)\n",
    "                count += 1\n",
    "    return count\n",
    "grid1 = [\n",
    "[\"1\",\"1\",\"1\",\"1\",\"0\"],\n",
    "[\"1\",\"1\",\"0\",\"1\",\"0\"], \n",
    "[\"1\",\"1\",\"0\",\"0\",\"0\"], \n",
    "[\"0\",\"0\",\"0\",\"0\",\"0\"]  \n",
    "]\n",
    "print(numIslands(grid1))  # 输出: 1\n",
    "\n",
    "grid2 = [\n",
    "[\"1\",\"1\",\"0\",\"0\",\"0\"],\n",
    "[\"1\",\"1\",\"0\",\"0\",\"0\"],\n",
    "[\"0\",\"0\",\"1\",\"0\",\"0\"],\n",
    "[\"0\",\"0\",\"0\",\"1\",\"1\"]\n",
    "]\n",
    "print(numIslands(grid2))  # 输出: 3"
   ]
  }
 ],
 "metadata": {
  "kernelspec": {
   "display_name": "Python 3",
   "language": "python",
   "name": "python3"
  },
  "language_info": {
   "codemirror_mode": {
    "name": "ipython",
    "version": 3
   },
   "file_extension": ".py",
   "mimetype": "text/x-python",
   "name": "python",
   "nbconvert_exporter": "python",
   "pygments_lexer": "ipython3",
   "version": "3.7.4"
  }
 },
 "nbformat": 4,
 "nbformat_minor": 2
}
